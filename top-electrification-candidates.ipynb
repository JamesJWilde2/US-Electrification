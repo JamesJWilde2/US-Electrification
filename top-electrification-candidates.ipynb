{
 "cells": [
  {
   "cell_type": "markdown",
   "id": "2a46130c",
   "metadata": {
    "papermill": {
     "duration": 0.004236,
     "end_time": "2023-01-22T05:08:02.646355",
     "exception": false,
     "start_time": "2023-01-22T05:08:02.642119",
     "status": "completed"
    },
    "tags": []
   },
   "source": [
    "# Which locations in the U.S. are the best candidates for electrification?\n",
    "\n",
    "### Background\n",
    "This is a short analysis I wrote for a thought exercise that asked me to use a handful of metrics to determine which counties or census-incorporated places in the United States are the best candidates for electrification. \n",
    "\n",
    "The exercise provided the data, so please note that I did not verify the data or its source (the purpose of this exercise was to demonstrate my analytical skills and thinking using the data provided).\n",
    "\n",
    "Electrification refers to the replacement of technologies that run on fossil fuels with technologies that run on electricity. \n",
    "\n",
    "In the following steps, I merge two datasets, transform multiple variables, and then create a relatively simple (and imperfect) composite index value."
   ]
  },
  {
   "cell_type": "markdown",
   "id": "5dfce6e7",
   "metadata": {
    "papermill": {
     "duration": 0.002719,
     "end_time": "2023-01-22T05:08:02.652448",
     "exception": false,
     "start_time": "2023-01-22T05:08:02.649729",
     "status": "completed"
    },
    "tags": []
   },
   "source": [
    "### Analysis\n",
    "First, I read in the provided csv files and installed necessary packages. "
   ]
  },
  {
   "cell_type": "code",
   "execution_count": 1,
   "id": "5c490f7c",
   "metadata": {
    "execution": {
     "iopub.execute_input": "2023-01-22T05:08:02.661725Z",
     "iopub.status.busy": "2023-01-22T05:08:02.659881Z",
     "iopub.status.idle": "2023-01-22T05:08:21.946797Z",
     "shell.execute_reply": "2023-01-22T05:08:21.945036Z"
    },
    "papermill": {
     "duration": 19.293642,
     "end_time": "2023-01-22T05:08:21.949040",
     "exception": false,
     "start_time": "2023-01-22T05:08:02.655398",
     "status": "completed"
    },
    "tags": []
   },
   "outputs": [
    {
     "name": "stderr",
     "output_type": "stream",
     "text": [
      "Installing package into ‘/usr/local/lib/R/site-library’\n",
      "(as ‘lib’ is unspecified)\n",
      "\n",
      "── \u001b[1mAttaching packages\u001b[22m ─────────────────────────────────────── tidyverse 1.3.2 ──\n",
      "\u001b[32m✔\u001b[39m \u001b[34mggplot2\u001b[39m 3.4.0      \u001b[32m✔\u001b[39m \u001b[34mpurrr  \u001b[39m 0.3.5 \n",
      "\u001b[32m✔\u001b[39m \u001b[34mtibble \u001b[39m 3.1.8      \u001b[32m✔\u001b[39m \u001b[34mdplyr  \u001b[39m 1.0.10\n",
      "\u001b[32m✔\u001b[39m \u001b[34mtidyr  \u001b[39m 1.2.1      \u001b[32m✔\u001b[39m \u001b[34mstringr\u001b[39m 1.5.0 \n",
      "\u001b[32m✔\u001b[39m \u001b[34mreadr  \u001b[39m 2.1.3      \u001b[32m✔\u001b[39m \u001b[34mforcats\u001b[39m 0.5.2 \n",
      "── \u001b[1mConflicts\u001b[22m ────────────────────────────────────────── tidyverse_conflicts() ──\n",
      "\u001b[31m✖\u001b[39m \u001b[34mdplyr\u001b[39m::\u001b[32mfilter()\u001b[39m masks \u001b[34mstats\u001b[39m::filter()\n",
      "\u001b[31m✖\u001b[39m \u001b[34mdplyr\u001b[39m::\u001b[32mlag()\u001b[39m    masks \u001b[34mstats\u001b[39m::lag()\n",
      "Loading required package: timechange\n",
      "\n",
      "\n",
      "Attaching package: ‘lubridate’\n",
      "\n",
      "\n",
      "The following objects are masked from ‘package:base’:\n",
      "\n",
      "    date, intersect, setdiff, union\n",
      "\n",
      "\n"
     ]
    }
   ],
   "source": [
    "# Read in csv files\n",
    "county_criteria <- read.csv(\"county_place_criteria.csv")\n",
    "county_populations <- read.csv(\"county_place_population.csv")\n",
    "\n",
    "# Installed some packages\n",
    "install.packages(\"tidyverse\")\n",
    "library(tidyverse)\n",
    "library(dplyr)\n",
    "library(lubridate)"
   ]
  },
  {
   "cell_type": "markdown",
   "id": "659416f1",
   "metadata": {
    "papermill": {
     "duration": 0.003484,
     "end_time": "2023-01-22T05:08:21.956153",
     "exception": false,
     "start_time": "2023-01-22T05:08:21.952669",
     "status": "completed"
    },
    "tags": []
   },
   "source": [
    "Next, I merged the two data frames."
   ]
  },
  {
   "cell_type": "code",
   "execution_count": 2,
   "id": "d7c3501b",
   "metadata": {
    "execution": {
     "iopub.execute_input": "2023-01-22T05:08:22.008781Z",
     "iopub.status.busy": "2023-01-22T05:08:21.964272Z",
     "iopub.status.idle": "2023-01-22T05:08:22.054585Z",
     "shell.execute_reply": "2023-01-22T05:08:22.053180Z"
    },
    "papermill": {
     "duration": 0.097444,
     "end_time": "2023-01-22T05:08:22.056794",
     "exception": false,
     "start_time": "2023-01-22T05:08:21.959350",
     "status": "completed"
    },
    "tags": []
   },
   "outputs": [
    {
     "data": {
      "text/html": [
       "<table class=\"dataframe\">\n",
       "<caption>A data.frame: 6 × 17</caption>\n",
       "<thead>\n",
       "\t<tr><th></th><th scope=col>GEOID</th><th scope=col>Name</th><th scope=col>State_abbr</th><th scope=col>Spatial_Level.x</th><th scope=col>Heating_Delivered_Fuel</th><th scope=col>Heating_Electric</th><th scope=col>Division_Electric_Pct_Heat_Pump</th><th scope=col>Energy_Burden_Pct_Income</th><th scope=col>hvac_energy_intensity</th><th scope=col>upgrade_annual_spend_delta</th><th scope=col>kg_co2e_emissions_saved</th><th scope=col>Total_New_Units</th><th scope=col>Residential_Solar_Generation_Potential</th><th scope=col>Pct_Solar_Install</th><th scope=col>Spatial_Level.y</th><th scope=col>Total_Population</th><th scope=col>Total_Households</th></tr>\n",
       "\t<tr><th></th><th scope=col>&lt;int&gt;</th><th scope=col>&lt;chr&gt;</th><th scope=col>&lt;chr&gt;</th><th scope=col>&lt;chr&gt;</th><th scope=col>&lt;int&gt;</th><th scope=col>&lt;int&gt;</th><th scope=col>&lt;dbl&gt;</th><th scope=col>&lt;dbl&gt;</th><th scope=col>&lt;dbl&gt;</th><th scope=col>&lt;dbl&gt;</th><th scope=col>&lt;dbl&gt;</th><th scope=col>&lt;dbl&gt;</th><th scope=col>&lt;dbl&gt;</th><th scope=col>&lt;dbl&gt;</th><th scope=col>&lt;chr&gt;</th><th scope=col>&lt;int&gt;</th><th scope=col>&lt;int&gt;</th></tr>\n",
       "</thead>\n",
       "<tbody>\n",
       "\t<tr><th scope=row>1</th><td>1001</td><td>Autauga County, Alabama</td><td>AL</td><td>County</td><td>1981</td><td>11772</td><td>0.3621017</td><td>0.03470000</td><td>7.525045</td><td>13376560</td><td> 36445041</td><td> 567.33333</td><td>122752.69</td><td>4.899406e-05</td><td>County</td><td> 55639</td><td>21559</td></tr>\n",
       "\t<tr><th scope=row>2</th><td>1003</td><td>Baldwin County, Alabama</td><td>AL</td><td>County</td><td>1723</td><td>73261</td><td>0.3621017</td><td>0.03186129</td><td>4.457553</td><td>46574858</td><td>123751119</td><td>6565.66667</td><td>483008.57</td><td>4.899406e-05</td><td>County</td><td>218289</td><td>84047</td></tr>\n",
       "\t<tr><th scope=row>3</th><td>1005</td><td>Barbour County, Alabama</td><td>AL</td><td>County</td><td> 993</td><td> 7670</td><td>0.3621017</td><td>0.05442222</td><td>9.578511</td><td> 5709085</td><td> 14159414</td><td>  21.33333</td><td> 42823.79</td><td>4.899406e-05</td><td>County</td><td> 25026</td><td> 9322</td></tr>\n",
       "\t<tr><th scope=row>4</th><td>1007</td><td>Bibb County, Alabama   </td><td>AL</td><td>County</td><td> 570</td><td> 4586</td><td>0.3621017</td><td>0.05517500</td><td>7.664810</td><td> 4016168</td><td> 10425110</td><td>  41.66667</td><td> 37917.84</td><td>4.899406e-05</td><td>County</td><td> 22374</td><td> 7259</td></tr>\n",
       "\t<tr><th scope=row>5</th><td>1009</td><td>Blount County, Alabama </td><td>AL</td><td>County</td><td>2350</td><td>15996</td><td>0.3621017</td><td>0.04438889</td><td>5.862766</td><td>11865806</td><td> 30022816</td><td>  49.66667</td><td>122024.81</td><td>4.899406e-05</td><td>County</td><td> 57755</td><td>21205</td></tr>\n",
       "\t<tr><th scope=row>6</th><td>1011</td><td>Bullock County, Alabama</td><td>AL</td><td>County</td><td> 736</td><td> 2330</td><td>0.3621017</td><td>0.07050000</td><td>5.062603</td><td> 2144302</td><td>  5297412</td><td>   0.00000</td><td> 16589.81</td><td>4.899406e-05</td><td>County</td><td> 10173</td><td> 3429</td></tr>\n",
       "</tbody>\n",
       "</table>\n"
      ],
      "text/latex": [
       "A data.frame: 6 × 17\n",
       "\\begin{tabular}{r|lllllllllllllllll}\n",
       "  & GEOID & Name & State\\_abbr & Spatial\\_Level.x & Heating\\_Delivered\\_Fuel & Heating\\_Electric & Division\\_Electric\\_Pct\\_Heat\\_Pump & Energy\\_Burden\\_Pct\\_Income & hvac\\_energy\\_intensity & upgrade\\_annual\\_spend\\_delta & kg\\_co2e\\_emissions\\_saved & Total\\_New\\_Units & Residential\\_Solar\\_Generation\\_Potential & Pct\\_Solar\\_Install & Spatial\\_Level.y & Total\\_Population & Total\\_Households\\\\\n",
       "  & <int> & <chr> & <chr> & <chr> & <int> & <int> & <dbl> & <dbl> & <dbl> & <dbl> & <dbl> & <dbl> & <dbl> & <dbl> & <chr> & <int> & <int>\\\\\n",
       "\\hline\n",
       "\t1 & 1001 & Autauga County, Alabama & AL & County & 1981 & 11772 & 0.3621017 & 0.03470000 & 7.525045 & 13376560 &  36445041 &  567.33333 & 122752.69 & 4.899406e-05 & County &  55639 & 21559\\\\\n",
       "\t2 & 1003 & Baldwin County, Alabama & AL & County & 1723 & 73261 & 0.3621017 & 0.03186129 & 4.457553 & 46574858 & 123751119 & 6565.66667 & 483008.57 & 4.899406e-05 & County & 218289 & 84047\\\\\n",
       "\t3 & 1005 & Barbour County, Alabama & AL & County &  993 &  7670 & 0.3621017 & 0.05442222 & 9.578511 &  5709085 &  14159414 &   21.33333 &  42823.79 & 4.899406e-05 & County &  25026 &  9322\\\\\n",
       "\t4 & 1007 & Bibb County, Alabama    & AL & County &  570 &  4586 & 0.3621017 & 0.05517500 & 7.664810 &  4016168 &  10425110 &   41.66667 &  37917.84 & 4.899406e-05 & County &  22374 &  7259\\\\\n",
       "\t5 & 1009 & Blount County, Alabama  & AL & County & 2350 & 15996 & 0.3621017 & 0.04438889 & 5.862766 & 11865806 &  30022816 &   49.66667 & 122024.81 & 4.899406e-05 & County &  57755 & 21205\\\\\n",
       "\t6 & 1011 & Bullock County, Alabama & AL & County &  736 &  2330 & 0.3621017 & 0.07050000 & 5.062603 &  2144302 &   5297412 &    0.00000 &  16589.81 & 4.899406e-05 & County &  10173 &  3429\\\\\n",
       "\\end{tabular}\n"
      ],
      "text/markdown": [
       "\n",
       "A data.frame: 6 × 17\n",
       "\n",
       "| <!--/--> | GEOID &lt;int&gt; | Name &lt;chr&gt; | State_abbr &lt;chr&gt; | Spatial_Level.x &lt;chr&gt; | Heating_Delivered_Fuel &lt;int&gt; | Heating_Electric &lt;int&gt; | Division_Electric_Pct_Heat_Pump &lt;dbl&gt; | Energy_Burden_Pct_Income &lt;dbl&gt; | hvac_energy_intensity &lt;dbl&gt; | upgrade_annual_spend_delta &lt;dbl&gt; | kg_co2e_emissions_saved &lt;dbl&gt; | Total_New_Units &lt;dbl&gt; | Residential_Solar_Generation_Potential &lt;dbl&gt; | Pct_Solar_Install &lt;dbl&gt; | Spatial_Level.y &lt;chr&gt; | Total_Population &lt;int&gt; | Total_Households &lt;int&gt; |\n",
       "|---|---|---|---|---|---|---|---|---|---|---|---|---|---|---|---|---|---|\n",
       "| 1 | 1001 | Autauga County, Alabama | AL | County | 1981 | 11772 | 0.3621017 | 0.03470000 | 7.525045 | 13376560 |  36445041 |  567.33333 | 122752.69 | 4.899406e-05 | County |  55639 | 21559 |\n",
       "| 2 | 1003 | Baldwin County, Alabama | AL | County | 1723 | 73261 | 0.3621017 | 0.03186129 | 4.457553 | 46574858 | 123751119 | 6565.66667 | 483008.57 | 4.899406e-05 | County | 218289 | 84047 |\n",
       "| 3 | 1005 | Barbour County, Alabama | AL | County |  993 |  7670 | 0.3621017 | 0.05442222 | 9.578511 |  5709085 |  14159414 |   21.33333 |  42823.79 | 4.899406e-05 | County |  25026 |  9322 |\n",
       "| 4 | 1007 | Bibb County, Alabama    | AL | County |  570 |  4586 | 0.3621017 | 0.05517500 | 7.664810 |  4016168 |  10425110 |   41.66667 |  37917.84 | 4.899406e-05 | County |  22374 |  7259 |\n",
       "| 5 | 1009 | Blount County, Alabama  | AL | County | 2350 | 15996 | 0.3621017 | 0.04438889 | 5.862766 | 11865806 |  30022816 |   49.66667 | 122024.81 | 4.899406e-05 | County |  57755 | 21205 |\n",
       "| 6 | 1011 | Bullock County, Alabama | AL | County |  736 |  2330 | 0.3621017 | 0.07050000 | 5.062603 |  2144302 |   5297412 |    0.00000 |  16589.81 | 4.899406e-05 | County |  10173 |  3429 |\n",
       "\n"
      ],
      "text/plain": [
       "  GEOID Name                    State_abbr Spatial_Level.x\n",
       "1 1001  Autauga County, Alabama AL         County         \n",
       "2 1003  Baldwin County, Alabama AL         County         \n",
       "3 1005  Barbour County, Alabama AL         County         \n",
       "4 1007  Bibb County, Alabama    AL         County         \n",
       "5 1009  Blount County, Alabama  AL         County         \n",
       "6 1011  Bullock County, Alabama AL         County         \n",
       "  Heating_Delivered_Fuel Heating_Electric Division_Electric_Pct_Heat_Pump\n",
       "1 1981                   11772            0.3621017                      \n",
       "2 1723                   73261            0.3621017                      \n",
       "3  993                    7670            0.3621017                      \n",
       "4  570                    4586            0.3621017                      \n",
       "5 2350                   15996            0.3621017                      \n",
       "6  736                    2330            0.3621017                      \n",
       "  Energy_Burden_Pct_Income hvac_energy_intensity upgrade_annual_spend_delta\n",
       "1 0.03470000               7.525045              13376560                  \n",
       "2 0.03186129               4.457553              46574858                  \n",
       "3 0.05442222               9.578511               5709085                  \n",
       "4 0.05517500               7.664810               4016168                  \n",
       "5 0.04438889               5.862766              11865806                  \n",
       "6 0.07050000               5.062603               2144302                  \n",
       "  kg_co2e_emissions_saved Total_New_Units\n",
       "1  36445041                567.33333     \n",
       "2 123751119               6565.66667     \n",
       "3  14159414                 21.33333     \n",
       "4  10425110                 41.66667     \n",
       "5  30022816                 49.66667     \n",
       "6   5297412                  0.00000     \n",
       "  Residential_Solar_Generation_Potential Pct_Solar_Install Spatial_Level.y\n",
       "1 122752.69                              4.899406e-05      County         \n",
       "2 483008.57                              4.899406e-05      County         \n",
       "3  42823.79                              4.899406e-05      County         \n",
       "4  37917.84                              4.899406e-05      County         \n",
       "5 122024.81                              4.899406e-05      County         \n",
       "6  16589.81                              4.899406e-05      County         \n",
       "  Total_Population Total_Households\n",
       "1  55639           21559           \n",
       "2 218289           84047           \n",
       "3  25026            9322           \n",
       "4  22374            7259           \n",
       "5  57755           21205           \n",
       "6  10173            3429           "
      ]
     },
     "metadata": {},
     "output_type": "display_data"
    }
   ],
   "source": [
    "# Merged the two data frames\n",
    "all_county_data <- merge(county_criteria, county_populations, by = \"GEOID\")\n",
    "head(all_county_data)"
   ]
  },
  {
   "cell_type": "markdown",
   "id": "f00be8fe",
   "metadata": {
    "papermill": {
     "duration": 0.003412,
     "end_time": "2023-01-22T05:08:22.064038",
     "exception": false,
     "start_time": "2023-01-22T05:08:22.060626",
     "status": "completed"
    },
    "tags": []
   },
   "source": [
    "I then made some transformations to create three new variables.\n",
    "\n",
    "**First**, I created a variable to estimate the total household energy consumption per sqft for each county or census-incorporated place for the purposes of heating, ventilation, and cooling (HVAC). I did this by multiplying the average household HVAC energy consumption per sqft for each location by the number of households in that location. \n",
    "\n",
    "**Second**, I created a variable that estimated the remaining solar energy potential remaining in each location. I did this by multiplying the total estimated residential solar generation potential for each location by the proportion of households that have *not* already had solar panels installed.\n",
    "\n",
    "**Third**, I created a variable that estimated potential financial savings on energy per location. I did this by multiplying the average proportion of household income spent on energy bills for each location by the number of total households in each location. \n",
    "\n",
    "(Note that this last variable is imperfect, because it does not account for locations having different average household incomes. This variable thus acts as an imperfect indicator of which counties spend larger portions of their incomes on energy, weighted by the number of households in each location.)"
   ]
  },
  {
   "cell_type": "code",
   "execution_count": 3,
   "id": "34a07a21",
   "metadata": {
    "execution": {
     "iopub.execute_input": "2023-01-22T05:08:22.074014Z",
     "iopub.status.busy": "2023-01-22T05:08:22.072560Z",
     "iopub.status.idle": "2023-01-22T05:08:22.111915Z",
     "shell.execute_reply": "2023-01-22T05:08:22.110473Z"
    },
    "papermill": {
     "duration": 0.04618,
     "end_time": "2023-01-22T05:08:22.113680",
     "exception": false,
     "start_time": "2023-01-22T05:08:22.067500",
     "status": "completed"
    },
    "tags": []
   },
   "outputs": [
    {
     "data": {
      "text/html": [
       "<table class=\"dataframe\">\n",
       "<caption>A data.frame: 6 × 20</caption>\n",
       "<thead>\n",
       "\t<tr><th></th><th scope=col>GEOID</th><th scope=col>Name</th><th scope=col>State_abbr</th><th scope=col>Spatial_Level.x</th><th scope=col>Heating_Delivered_Fuel</th><th scope=col>Heating_Electric</th><th scope=col>Division_Electric_Pct_Heat_Pump</th><th scope=col>Energy_Burden_Pct_Income</th><th scope=col>hvac_energy_intensity</th><th scope=col>upgrade_annual_spend_delta</th><th scope=col>kg_co2e_emissions_saved</th><th scope=col>Total_New_Units</th><th scope=col>Residential_Solar_Generation_Potential</th><th scope=col>Pct_Solar_Install</th><th scope=col>Spatial_Level.y</th><th scope=col>Total_Population</th><th scope=col>Total_Households</th><th scope=col>total_HVAC_energy</th><th scope=col>solar_potential</th><th scope=col>total_energy_savings</th></tr>\n",
       "\t<tr><th></th><th scope=col>&lt;int&gt;</th><th scope=col>&lt;chr&gt;</th><th scope=col>&lt;chr&gt;</th><th scope=col>&lt;chr&gt;</th><th scope=col>&lt;int&gt;</th><th scope=col>&lt;int&gt;</th><th scope=col>&lt;dbl&gt;</th><th scope=col>&lt;dbl&gt;</th><th scope=col>&lt;dbl&gt;</th><th scope=col>&lt;dbl&gt;</th><th scope=col>&lt;dbl&gt;</th><th scope=col>&lt;dbl&gt;</th><th scope=col>&lt;dbl&gt;</th><th scope=col>&lt;dbl&gt;</th><th scope=col>&lt;chr&gt;</th><th scope=col>&lt;int&gt;</th><th scope=col>&lt;int&gt;</th><th scope=col>&lt;dbl&gt;</th><th scope=col>&lt;dbl&gt;</th><th scope=col>&lt;dbl&gt;</th></tr>\n",
       "</thead>\n",
       "<tbody>\n",
       "\t<tr><th scope=row>1</th><td>1001</td><td>Autauga County, Alabama</td><td>AL</td><td>County</td><td>1981</td><td>11772</td><td>0.3621017</td><td>0.03470000</td><td>7.525045</td><td>13376560</td><td> 36445041</td><td> 567.33333</td><td>122752.69</td><td>4.899406e-05</td><td>County</td><td> 55639</td><td>21559</td><td>162232.45</td><td>122746.68</td><td> 748.0973</td></tr>\n",
       "\t<tr><th scope=row>2</th><td>1003</td><td>Baldwin County, Alabama</td><td>AL</td><td>County</td><td>1723</td><td>73261</td><td>0.3621017</td><td>0.03186129</td><td>4.457553</td><td>46574858</td><td>123751119</td><td>6565.66667</td><td>483008.57</td><td>4.899406e-05</td><td>County</td><td>218289</td><td>84047</td><td>374643.99</td><td>482984.91</td><td>2677.8459</td></tr>\n",
       "\t<tr><th scope=row>3</th><td>1005</td><td>Barbour County, Alabama</td><td>AL</td><td>County</td><td> 993</td><td> 7670</td><td>0.3621017</td><td>0.05442222</td><td>9.578511</td><td> 5709085</td><td> 14159414</td><td>  21.33333</td><td> 42823.79</td><td>4.899406e-05</td><td>County</td><td> 25026</td><td> 9322</td><td> 89290.88</td><td> 42821.69</td><td> 507.3240</td></tr>\n",
       "\t<tr><th scope=row>4</th><td>1007</td><td>Bibb County, Alabama   </td><td>AL</td><td>County</td><td> 570</td><td> 4586</td><td>0.3621017</td><td>0.05517500</td><td>7.664810</td><td> 4016168</td><td> 10425110</td><td>  41.66667</td><td> 37917.84</td><td>4.899406e-05</td><td>County</td><td> 22374</td><td> 7259</td><td> 55638.85</td><td> 37915.98</td><td> 400.5153</td></tr>\n",
       "\t<tr><th scope=row>5</th><td>1009</td><td>Blount County, Alabama </td><td>AL</td><td>County</td><td>2350</td><td>15996</td><td>0.3621017</td><td>0.04438889</td><td>5.862766</td><td>11865806</td><td> 30022816</td><td>  49.66667</td><td>122024.81</td><td>4.899406e-05</td><td>County</td><td> 57755</td><td>21205</td><td>124319.96</td><td>122018.83</td><td> 941.2664</td></tr>\n",
       "\t<tr><th scope=row>6</th><td>1011</td><td>Bullock County, Alabama</td><td>AL</td><td>County</td><td> 736</td><td> 2330</td><td>0.3621017</td><td>0.07050000</td><td>5.062603</td><td> 2144302</td><td>  5297412</td><td>   0.00000</td><td> 16589.81</td><td>4.899406e-05</td><td>County</td><td> 10173</td><td> 3429</td><td> 17359.67</td><td> 16589.00</td><td> 241.7445</td></tr>\n",
       "</tbody>\n",
       "</table>\n"
      ],
      "text/latex": [
       "A data.frame: 6 × 20\n",
       "\\begin{tabular}{r|llllllllllllllllllll}\n",
       "  & GEOID & Name & State\\_abbr & Spatial\\_Level.x & Heating\\_Delivered\\_Fuel & Heating\\_Electric & Division\\_Electric\\_Pct\\_Heat\\_Pump & Energy\\_Burden\\_Pct\\_Income & hvac\\_energy\\_intensity & upgrade\\_annual\\_spend\\_delta & kg\\_co2e\\_emissions\\_saved & Total\\_New\\_Units & Residential\\_Solar\\_Generation\\_Potential & Pct\\_Solar\\_Install & Spatial\\_Level.y & Total\\_Population & Total\\_Households & total\\_HVAC\\_energy & solar\\_potential & total\\_energy\\_savings\\\\\n",
       "  & <int> & <chr> & <chr> & <chr> & <int> & <int> & <dbl> & <dbl> & <dbl> & <dbl> & <dbl> & <dbl> & <dbl> & <dbl> & <chr> & <int> & <int> & <dbl> & <dbl> & <dbl>\\\\\n",
       "\\hline\n",
       "\t1 & 1001 & Autauga County, Alabama & AL & County & 1981 & 11772 & 0.3621017 & 0.03470000 & 7.525045 & 13376560 &  36445041 &  567.33333 & 122752.69 & 4.899406e-05 & County &  55639 & 21559 & 162232.45 & 122746.68 &  748.0973\\\\\n",
       "\t2 & 1003 & Baldwin County, Alabama & AL & County & 1723 & 73261 & 0.3621017 & 0.03186129 & 4.457553 & 46574858 & 123751119 & 6565.66667 & 483008.57 & 4.899406e-05 & County & 218289 & 84047 & 374643.99 & 482984.91 & 2677.8459\\\\\n",
       "\t3 & 1005 & Barbour County, Alabama & AL & County &  993 &  7670 & 0.3621017 & 0.05442222 & 9.578511 &  5709085 &  14159414 &   21.33333 &  42823.79 & 4.899406e-05 & County &  25026 &  9322 &  89290.88 &  42821.69 &  507.3240\\\\\n",
       "\t4 & 1007 & Bibb County, Alabama    & AL & County &  570 &  4586 & 0.3621017 & 0.05517500 & 7.664810 &  4016168 &  10425110 &   41.66667 &  37917.84 & 4.899406e-05 & County &  22374 &  7259 &  55638.85 &  37915.98 &  400.5153\\\\\n",
       "\t5 & 1009 & Blount County, Alabama  & AL & County & 2350 & 15996 & 0.3621017 & 0.04438889 & 5.862766 & 11865806 &  30022816 &   49.66667 & 122024.81 & 4.899406e-05 & County &  57755 & 21205 & 124319.96 & 122018.83 &  941.2664\\\\\n",
       "\t6 & 1011 & Bullock County, Alabama & AL & County &  736 &  2330 & 0.3621017 & 0.07050000 & 5.062603 &  2144302 &   5297412 &    0.00000 &  16589.81 & 4.899406e-05 & County &  10173 &  3429 &  17359.67 &  16589.00 &  241.7445\\\\\n",
       "\\end{tabular}\n"
      ],
      "text/markdown": [
       "\n",
       "A data.frame: 6 × 20\n",
       "\n",
       "| <!--/--> | GEOID &lt;int&gt; | Name &lt;chr&gt; | State_abbr &lt;chr&gt; | Spatial_Level.x &lt;chr&gt; | Heating_Delivered_Fuel &lt;int&gt; | Heating_Electric &lt;int&gt; | Division_Electric_Pct_Heat_Pump &lt;dbl&gt; | Energy_Burden_Pct_Income &lt;dbl&gt; | hvac_energy_intensity &lt;dbl&gt; | upgrade_annual_spend_delta &lt;dbl&gt; | kg_co2e_emissions_saved &lt;dbl&gt; | Total_New_Units &lt;dbl&gt; | Residential_Solar_Generation_Potential &lt;dbl&gt; | Pct_Solar_Install &lt;dbl&gt; | Spatial_Level.y &lt;chr&gt; | Total_Population &lt;int&gt; | Total_Households &lt;int&gt; | total_HVAC_energy &lt;dbl&gt; | solar_potential &lt;dbl&gt; | total_energy_savings &lt;dbl&gt; |\n",
       "|---|---|---|---|---|---|---|---|---|---|---|---|---|---|---|---|---|---|---|---|---|\n",
       "| 1 | 1001 | Autauga County, Alabama | AL | County | 1981 | 11772 | 0.3621017 | 0.03470000 | 7.525045 | 13376560 |  36445041 |  567.33333 | 122752.69 | 4.899406e-05 | County |  55639 | 21559 | 162232.45 | 122746.68 |  748.0973 |\n",
       "| 2 | 1003 | Baldwin County, Alabama | AL | County | 1723 | 73261 | 0.3621017 | 0.03186129 | 4.457553 | 46574858 | 123751119 | 6565.66667 | 483008.57 | 4.899406e-05 | County | 218289 | 84047 | 374643.99 | 482984.91 | 2677.8459 |\n",
       "| 3 | 1005 | Barbour County, Alabama | AL | County |  993 |  7670 | 0.3621017 | 0.05442222 | 9.578511 |  5709085 |  14159414 |   21.33333 |  42823.79 | 4.899406e-05 | County |  25026 |  9322 |  89290.88 |  42821.69 |  507.3240 |\n",
       "| 4 | 1007 | Bibb County, Alabama    | AL | County |  570 |  4586 | 0.3621017 | 0.05517500 | 7.664810 |  4016168 |  10425110 |   41.66667 |  37917.84 | 4.899406e-05 | County |  22374 |  7259 |  55638.85 |  37915.98 |  400.5153 |\n",
       "| 5 | 1009 | Blount County, Alabama  | AL | County | 2350 | 15996 | 0.3621017 | 0.04438889 | 5.862766 | 11865806 |  30022816 |   49.66667 | 122024.81 | 4.899406e-05 | County |  57755 | 21205 | 124319.96 | 122018.83 |  941.2664 |\n",
       "| 6 | 1011 | Bullock County, Alabama | AL | County |  736 |  2330 | 0.3621017 | 0.07050000 | 5.062603 |  2144302 |   5297412 |    0.00000 |  16589.81 | 4.899406e-05 | County |  10173 |  3429 |  17359.67 |  16589.00 |  241.7445 |\n",
       "\n"
      ],
      "text/plain": [
       "  GEOID Name                    State_abbr Spatial_Level.x\n",
       "1 1001  Autauga County, Alabama AL         County         \n",
       "2 1003  Baldwin County, Alabama AL         County         \n",
       "3 1005  Barbour County, Alabama AL         County         \n",
       "4 1007  Bibb County, Alabama    AL         County         \n",
       "5 1009  Blount County, Alabama  AL         County         \n",
       "6 1011  Bullock County, Alabama AL         County         \n",
       "  Heating_Delivered_Fuel Heating_Electric Division_Electric_Pct_Heat_Pump\n",
       "1 1981                   11772            0.3621017                      \n",
       "2 1723                   73261            0.3621017                      \n",
       "3  993                    7670            0.3621017                      \n",
       "4  570                    4586            0.3621017                      \n",
       "5 2350                   15996            0.3621017                      \n",
       "6  736                    2330            0.3621017                      \n",
       "  Energy_Burden_Pct_Income hvac_energy_intensity upgrade_annual_spend_delta\n",
       "1 0.03470000               7.525045              13376560                  \n",
       "2 0.03186129               4.457553              46574858                  \n",
       "3 0.05442222               9.578511               5709085                  \n",
       "4 0.05517500               7.664810               4016168                  \n",
       "5 0.04438889               5.862766              11865806                  \n",
       "6 0.07050000               5.062603               2144302                  \n",
       "  kg_co2e_emissions_saved Total_New_Units\n",
       "1  36445041                567.33333     \n",
       "2 123751119               6565.66667     \n",
       "3  14159414                 21.33333     \n",
       "4  10425110                 41.66667     \n",
       "5  30022816                 49.66667     \n",
       "6   5297412                  0.00000     \n",
       "  Residential_Solar_Generation_Potential Pct_Solar_Install Spatial_Level.y\n",
       "1 122752.69                              4.899406e-05      County         \n",
       "2 483008.57                              4.899406e-05      County         \n",
       "3  42823.79                              4.899406e-05      County         \n",
       "4  37917.84                              4.899406e-05      County         \n",
       "5 122024.81                              4.899406e-05      County         \n",
       "6  16589.81                              4.899406e-05      County         \n",
       "  Total_Population Total_Households total_HVAC_energy solar_potential\n",
       "1  55639           21559            162232.45         122746.68      \n",
       "2 218289           84047            374643.99         482984.91      \n",
       "3  25026            9322             89290.88          42821.69      \n",
       "4  22374            7259             55638.85          37915.98      \n",
       "5  57755           21205            124319.96         122018.83      \n",
       "6  10173            3429             17359.67          16589.00      \n",
       "  total_energy_savings\n",
       "1  748.0973           \n",
       "2 2677.8459           \n",
       "3  507.3240           \n",
       "4  400.5153           \n",
       "5  941.2664           \n",
       "6  241.7445           "
      ]
     },
     "metadata": {},
     "output_type": "display_data"
    }
   ],
   "source": [
    "# Created a new variable estimating total HVAC energy consumptions\n",
    "all_county_data$total_HVAC_energy <- (all_county_data$hvac_energy_intensity * all_county_data$Total_Households)\n",
    "\n",
    "# Created a new variable representing remaining solar potential\n",
    "all_county_data$solar_potential <- (all_county_data$Residential_Solar_Generation_Potential * (1 - all_county_data$Pct_Solar_Install))\n",
    "\n",
    "# Created one more variable representing total financial energy saving potential\n",
    "all_county_data$total_energy_savings <- (all_county_data$Energy_Burden_Pct_Income * all_county_data$Total_Households)\n",
    "\n",
    "head(all_county_data)"
   ]
  },
  {
   "cell_type": "markdown",
   "id": "d87d45dc",
   "metadata": {
    "papermill": {
     "duration": 0.003696,
     "end_time": "2023-01-22T05:08:22.121471",
     "exception": false,
     "start_time": "2023-01-22T05:08:22.117775",
     "status": "completed"
    },
    "tags": []
   },
   "source": [
    "Next, I adjusted four variables (including the three variables I created in the previous step) to be on a scale from 0 to 1. I then summed these four scaled variables for each location to create an equally-weighted composite index variable. "
   ]
  },
  {
   "cell_type": "code",
   "execution_count": 4,
   "id": "d6390fec",
   "metadata": {
    "execution": {
     "iopub.execute_input": "2023-01-22T05:08:22.131944Z",
     "iopub.status.busy": "2023-01-22T05:08:22.130482Z",
     "iopub.status.idle": "2023-01-22T05:08:22.164793Z",
     "shell.execute_reply": "2023-01-22T05:08:22.163432Z"
    },
    "papermill": {
     "duration": 0.054078,
     "end_time": "2023-01-22T05:08:22.179246",
     "exception": false,
     "start_time": "2023-01-22T05:08:22.125168",
     "status": "completed"
    },
    "tags": []
   },
   "outputs": [
    {
     "data": {
      "text/html": [
       "<table class=\"dataframe\">\n",
       "<caption>A data.frame: 6 × 21</caption>\n",
       "<thead>\n",
       "\t<tr><th></th><th scope=col>GEOID</th><th scope=col>Name</th><th scope=col>State_abbr</th><th scope=col>Spatial_Level.x</th><th scope=col>Heating_Delivered_Fuel</th><th scope=col>Heating_Electric</th><th scope=col>Division_Electric_Pct_Heat_Pump</th><th scope=col>Energy_Burden_Pct_Income</th><th scope=col>hvac_energy_intensity</th><th scope=col>upgrade_annual_spend_delta</th><th scope=col>⋯</th><th scope=col>Total_New_Units</th><th scope=col>Residential_Solar_Generation_Potential</th><th scope=col>Pct_Solar_Install</th><th scope=col>Spatial_Level.y</th><th scope=col>Total_Population</th><th scope=col>Total_Households</th><th scope=col>total_HVAC_energy</th><th scope=col>solar_potential</th><th scope=col>total_energy_savings</th><th scope=col>composite_index</th></tr>\n",
       "\t<tr><th></th><th scope=col>&lt;int&gt;</th><th scope=col>&lt;chr&gt;</th><th scope=col>&lt;chr&gt;</th><th scope=col>&lt;chr&gt;</th><th scope=col>&lt;int&gt;</th><th scope=col>&lt;int&gt;</th><th scope=col>&lt;dbl&gt;</th><th scope=col>&lt;dbl&gt;</th><th scope=col>&lt;dbl&gt;</th><th scope=col>&lt;dbl&gt;</th><th scope=col>⋯</th><th scope=col>&lt;dbl&gt;</th><th scope=col>&lt;dbl&gt;</th><th scope=col>&lt;dbl&gt;</th><th scope=col>&lt;chr&gt;</th><th scope=col>&lt;int&gt;</th><th scope=col>&lt;int&gt;</th><th scope=col>&lt;dbl&gt;</th><th scope=col>&lt;dbl&gt;</th><th scope=col>&lt;dbl&gt;</th><th scope=col>&lt;dbl&gt;</th></tr>\n",
       "</thead>\n",
       "<tbody>\n",
       "\t<tr><th scope=row>1</th><td>1001</td><td>Autauga County, Alabama</td><td>AL</td><td>County</td><td>1981</td><td>11772</td><td>0.3621017</td><td>0.03470000</td><td>7.525045</td><td>13376560</td><td>⋯</td><td> 567.33333</td><td>122752.69</td><td>4.899406e-05</td><td>County</td><td> 55639</td><td>21559</td><td>162232.45</td><td>122746.68</td><td> 748.0973</td><td>0.024042851</td></tr>\n",
       "\t<tr><th scope=row>2</th><td>1003</td><td>Baldwin County, Alabama</td><td>AL</td><td>County</td><td>1723</td><td>73261</td><td>0.3621017</td><td>0.03186129</td><td>4.457553</td><td>46574858</td><td>⋯</td><td>6565.66667</td><td>483008.57</td><td>4.899406e-05</td><td>County</td><td>218289</td><td>84047</td><td>374643.99</td><td>482984.91</td><td>2677.8459</td><td>0.075451146</td></tr>\n",
       "\t<tr><th scope=row>3</th><td>1005</td><td>Barbour County, Alabama</td><td>AL</td><td>County</td><td> 993</td><td> 7670</td><td>0.3621017</td><td>0.05442222</td><td>9.578511</td><td> 5709085</td><td>⋯</td><td>  21.33333</td><td> 42823.79</td><td>4.899406e-05</td><td>County</td><td> 25026</td><td> 9322</td><td> 89290.88</td><td> 42821.69</td><td> 507.3240</td><td>0.012369358</td></tr>\n",
       "\t<tr><th scope=row>4</th><td>1007</td><td>Bibb County, Alabama   </td><td>AL</td><td>County</td><td> 570</td><td> 4586</td><td>0.3621017</td><td>0.05517500</td><td>7.664810</td><td> 4016168</td><td>⋯</td><td>  41.66667</td><td> 37917.84</td><td>4.899406e-05</td><td>County</td><td> 22374</td><td> 7259</td><td> 55638.85</td><td> 37915.98</td><td> 400.5153</td><td>0.009371419</td></tr>\n",
       "\t<tr><th scope=row>5</th><td>1009</td><td>Blount County, Alabama </td><td>AL</td><td>County</td><td>2350</td><td>15996</td><td>0.3621017</td><td>0.04438889</td><td>5.862766</td><td>11865806</td><td>⋯</td><td>  49.66667</td><td>122024.81</td><td>4.899406e-05</td><td>County</td><td> 57755</td><td>21205</td><td>124319.96</td><td>122018.83</td><td> 941.2664</td><td>0.026002310</td></tr>\n",
       "\t<tr><th scope=row>6</th><td>1011</td><td>Bullock County, Alabama</td><td>AL</td><td>County</td><td> 736</td><td> 2330</td><td>0.3621017</td><td>0.07050000</td><td>5.062603</td><td> 2144302</td><td>⋯</td><td>   0.00000</td><td> 16589.81</td><td>4.899406e-05</td><td>County</td><td> 10173</td><td> 3429</td><td> 17359.67</td><td> 16589.00</td><td> 241.7445</td><td>0.005548779</td></tr>\n",
       "</tbody>\n",
       "</table>\n"
      ],
      "text/latex": [
       "A data.frame: 6 × 21\n",
       "\\begin{tabular}{r|lllllllllllllllllllll}\n",
       "  & GEOID & Name & State\\_abbr & Spatial\\_Level.x & Heating\\_Delivered\\_Fuel & Heating\\_Electric & Division\\_Electric\\_Pct\\_Heat\\_Pump & Energy\\_Burden\\_Pct\\_Income & hvac\\_energy\\_intensity & upgrade\\_annual\\_spend\\_delta & ⋯ & Total\\_New\\_Units & Residential\\_Solar\\_Generation\\_Potential & Pct\\_Solar\\_Install & Spatial\\_Level.y & Total\\_Population & Total\\_Households & total\\_HVAC\\_energy & solar\\_potential & total\\_energy\\_savings & composite\\_index\\\\\n",
       "  & <int> & <chr> & <chr> & <chr> & <int> & <int> & <dbl> & <dbl> & <dbl> & <dbl> & ⋯ & <dbl> & <dbl> & <dbl> & <chr> & <int> & <int> & <dbl> & <dbl> & <dbl> & <dbl>\\\\\n",
       "\\hline\n",
       "\t1 & 1001 & Autauga County, Alabama & AL & County & 1981 & 11772 & 0.3621017 & 0.03470000 & 7.525045 & 13376560 & ⋯ &  567.33333 & 122752.69 & 4.899406e-05 & County &  55639 & 21559 & 162232.45 & 122746.68 &  748.0973 & 0.024042851\\\\\n",
       "\t2 & 1003 & Baldwin County, Alabama & AL & County & 1723 & 73261 & 0.3621017 & 0.03186129 & 4.457553 & 46574858 & ⋯ & 6565.66667 & 483008.57 & 4.899406e-05 & County & 218289 & 84047 & 374643.99 & 482984.91 & 2677.8459 & 0.075451146\\\\\n",
       "\t3 & 1005 & Barbour County, Alabama & AL & County &  993 &  7670 & 0.3621017 & 0.05442222 & 9.578511 &  5709085 & ⋯ &   21.33333 &  42823.79 & 4.899406e-05 & County &  25026 &  9322 &  89290.88 &  42821.69 &  507.3240 & 0.012369358\\\\\n",
       "\t4 & 1007 & Bibb County, Alabama    & AL & County &  570 &  4586 & 0.3621017 & 0.05517500 & 7.664810 &  4016168 & ⋯ &   41.66667 &  37917.84 & 4.899406e-05 & County &  22374 &  7259 &  55638.85 &  37915.98 &  400.5153 & 0.009371419\\\\\n",
       "\t5 & 1009 & Blount County, Alabama  & AL & County & 2350 & 15996 & 0.3621017 & 0.04438889 & 5.862766 & 11865806 & ⋯ &   49.66667 & 122024.81 & 4.899406e-05 & County &  57755 & 21205 & 124319.96 & 122018.83 &  941.2664 & 0.026002310\\\\\n",
       "\t6 & 1011 & Bullock County, Alabama & AL & County &  736 &  2330 & 0.3621017 & 0.07050000 & 5.062603 &  2144302 & ⋯ &    0.00000 &  16589.81 & 4.899406e-05 & County &  10173 &  3429 &  17359.67 &  16589.00 &  241.7445 & 0.005548779\\\\\n",
       "\\end{tabular}\n"
      ],
      "text/markdown": [
       "\n",
       "A data.frame: 6 × 21\n",
       "\n",
       "| <!--/--> | GEOID &lt;int&gt; | Name &lt;chr&gt; | State_abbr &lt;chr&gt; | Spatial_Level.x &lt;chr&gt; | Heating_Delivered_Fuel &lt;int&gt; | Heating_Electric &lt;int&gt; | Division_Electric_Pct_Heat_Pump &lt;dbl&gt; | Energy_Burden_Pct_Income &lt;dbl&gt; | hvac_energy_intensity &lt;dbl&gt; | upgrade_annual_spend_delta &lt;dbl&gt; | ⋯ ⋯ | Total_New_Units &lt;dbl&gt; | Residential_Solar_Generation_Potential &lt;dbl&gt; | Pct_Solar_Install &lt;dbl&gt; | Spatial_Level.y &lt;chr&gt; | Total_Population &lt;int&gt; | Total_Households &lt;int&gt; | total_HVAC_energy &lt;dbl&gt; | solar_potential &lt;dbl&gt; | total_energy_savings &lt;dbl&gt; | composite_index &lt;dbl&gt; |\n",
       "|---|---|---|---|---|---|---|---|---|---|---|---|---|---|---|---|---|---|---|---|---|---|\n",
       "| 1 | 1001 | Autauga County, Alabama | AL | County | 1981 | 11772 | 0.3621017 | 0.03470000 | 7.525045 | 13376560 | ⋯ |  567.33333 | 122752.69 | 4.899406e-05 | County |  55639 | 21559 | 162232.45 | 122746.68 |  748.0973 | 0.024042851 |\n",
       "| 2 | 1003 | Baldwin County, Alabama | AL | County | 1723 | 73261 | 0.3621017 | 0.03186129 | 4.457553 | 46574858 | ⋯ | 6565.66667 | 483008.57 | 4.899406e-05 | County | 218289 | 84047 | 374643.99 | 482984.91 | 2677.8459 | 0.075451146 |\n",
       "| 3 | 1005 | Barbour County, Alabama | AL | County |  993 |  7670 | 0.3621017 | 0.05442222 | 9.578511 |  5709085 | ⋯ |   21.33333 |  42823.79 | 4.899406e-05 | County |  25026 |  9322 |  89290.88 |  42821.69 |  507.3240 | 0.012369358 |\n",
       "| 4 | 1007 | Bibb County, Alabama    | AL | County |  570 |  4586 | 0.3621017 | 0.05517500 | 7.664810 |  4016168 | ⋯ |   41.66667 |  37917.84 | 4.899406e-05 | County |  22374 |  7259 |  55638.85 |  37915.98 |  400.5153 | 0.009371419 |\n",
       "| 5 | 1009 | Blount County, Alabama  | AL | County | 2350 | 15996 | 0.3621017 | 0.04438889 | 5.862766 | 11865806 | ⋯ |   49.66667 | 122024.81 | 4.899406e-05 | County |  57755 | 21205 | 124319.96 | 122018.83 |  941.2664 | 0.026002310 |\n",
       "| 6 | 1011 | Bullock County, Alabama | AL | County |  736 |  2330 | 0.3621017 | 0.07050000 | 5.062603 |  2144302 | ⋯ |    0.00000 |  16589.81 | 4.899406e-05 | County |  10173 |  3429 |  17359.67 |  16589.00 |  241.7445 | 0.005548779 |\n",
       "\n"
      ],
      "text/plain": [
       "  GEOID Name                    State_abbr Spatial_Level.x\n",
       "1 1001  Autauga County, Alabama AL         County         \n",
       "2 1003  Baldwin County, Alabama AL         County         \n",
       "3 1005  Barbour County, Alabama AL         County         \n",
       "4 1007  Bibb County, Alabama    AL         County         \n",
       "5 1009  Blount County, Alabama  AL         County         \n",
       "6 1011  Bullock County, Alabama AL         County         \n",
       "  Heating_Delivered_Fuel Heating_Electric Division_Electric_Pct_Heat_Pump\n",
       "1 1981                   11772            0.3621017                      \n",
       "2 1723                   73261            0.3621017                      \n",
       "3  993                    7670            0.3621017                      \n",
       "4  570                    4586            0.3621017                      \n",
       "5 2350                   15996            0.3621017                      \n",
       "6  736                    2330            0.3621017                      \n",
       "  Energy_Burden_Pct_Income hvac_energy_intensity upgrade_annual_spend_delta ⋯\n",
       "1 0.03470000               7.525045              13376560                   ⋯\n",
       "2 0.03186129               4.457553              46574858                   ⋯\n",
       "3 0.05442222               9.578511               5709085                   ⋯\n",
       "4 0.05517500               7.664810               4016168                   ⋯\n",
       "5 0.04438889               5.862766              11865806                   ⋯\n",
       "6 0.07050000               5.062603               2144302                   ⋯\n",
       "  Total_New_Units Residential_Solar_Generation_Potential Pct_Solar_Install\n",
       "1  567.33333      122752.69                              4.899406e-05     \n",
       "2 6565.66667      483008.57                              4.899406e-05     \n",
       "3   21.33333       42823.79                              4.899406e-05     \n",
       "4   41.66667       37917.84                              4.899406e-05     \n",
       "5   49.66667      122024.81                              4.899406e-05     \n",
       "6    0.00000       16589.81                              4.899406e-05     \n",
       "  Spatial_Level.y Total_Population Total_Households total_HVAC_energy\n",
       "1 County           55639           21559            162232.45        \n",
       "2 County          218289           84047            374643.99        \n",
       "3 County           25026            9322             89290.88        \n",
       "4 County           22374            7259             55638.85        \n",
       "5 County           57755           21205            124319.96        \n",
       "6 County           10173            3429             17359.67        \n",
       "  solar_potential total_energy_savings composite_index\n",
       "1 122746.68        748.0973            0.024042851    \n",
       "2 482984.91       2677.8459            0.075451146    \n",
       "3  42821.69        507.3240            0.012369358    \n",
       "4  37915.98        400.5153            0.009371419    \n",
       "5 122018.83        941.2664            0.026002310    \n",
       "6  16589.00        241.7445            0.005548779    "
      ]
     },
     "metadata": {},
     "output_type": "display_data"
    }
   ],
   "source": [
    "# I used the max function for the calculation, and I set the max function to ignore null values\n",
    "all_county_data$composite_index <- ((all_county_data$Heating_Delivered_Fuel / max(all_county_data$Heating_Delivered_Fuel, na.rm = TRUE)) +\n",
    "        (all_county_data$total_energy_savings / max(all_county_data$total_energy_savings, na.rm = TRUE)) +\n",
    "        (all_county_data$total_HVAC_energy / max(all_county_data$total_HVAC_energy, na.rm = TRUE)) +\n",
    "        (all_county_data$solar_potential / max(all_county_data$solar_potential, na.rm = TRUE)))\n",
    "\n",
    "head(all_county_data)"
   ]
  },
  {
   "cell_type": "markdown",
   "id": "eff7441e",
   "metadata": {
    "papermill": {
     "duration": 0.004021,
     "end_time": "2023-01-22T05:08:22.187781",
     "exception": false,
     "start_time": "2023-01-22T05:08:22.183760",
     "status": "completed"
    },
    "tags": []
   },
   "source": [
    "Upon reviewing the data, I noticed 12 locations with index values greater than 0.8 However, three of those locations (New York City, Los Angeles, and Chicago) were census-incorporated places that overlapped (geographically and demographically) with counties. I removed these three locations for simplicity. "
   ]
  },
  {
   "cell_type": "code",
   "execution_count": 5,
   "id": "15ece7e6",
   "metadata": {
    "execution": {
     "iopub.execute_input": "2023-01-22T05:08:22.199403Z",
     "iopub.status.busy": "2023-01-22T05:08:22.197949Z",
     "iopub.status.idle": "2023-01-22T05:08:22.249732Z",
     "shell.execute_reply": "2023-01-22T05:08:22.248227Z"
    },
    "papermill": {
     "duration": 0.060057,
     "end_time": "2023-01-22T05:08:22.251950",
     "exception": false,
     "start_time": "2023-01-22T05:08:22.191893",
     "status": "completed"
    },
    "tags": []
   },
   "outputs": [],
   "source": [
    "# I removed the overlapping locations, leaving only the counties\n",
    "all_county_data <- all_county_data %>%\n",
    "  filter(Name != \"New York city, New York\") %>%\n",
    "  filter(Name != \"Los Angeles city, California\") %>%\n",
    "  filter(Name != \"Chicago city, Illinois\")\n"
   ]
  },
  {
   "cell_type": "markdown",
   "id": "5ed3965e",
   "metadata": {
    "papermill": {
     "duration": 0.004044,
     "end_time": "2023-01-22T05:08:22.260355",
     "exception": false,
     "start_time": "2023-01-22T05:08:22.256311",
     "status": "completed"
    },
    "tags": []
   },
   "source": [
    "That left nine counties with index values greater than 0.8."
   ]
  },
  {
   "cell_type": "code",
   "execution_count": 6,
   "id": "db99baf1",
   "metadata": {
    "execution": {
     "iopub.execute_input": "2023-01-22T05:08:22.271719Z",
     "iopub.status.busy": "2023-01-22T05:08:22.270239Z",
     "iopub.status.idle": "2023-01-22T05:08:22.294981Z",
     "shell.execute_reply": "2023-01-22T05:08:22.293042Z"
    },
    "papermill": {
     "duration": 0.032847,
     "end_time": "2023-01-22T05:08:22.297283",
     "exception": false,
     "start_time": "2023-01-22T05:08:22.264436",
     "status": "completed"
    },
    "tags": []
   },
   "outputs": [
    {
     "name": "stdout",
     "output_type": "stream",
     "text": [
      "  GEOID                           Name State_abbr Spatial_Level.x\n",
      "1  4013       Maricopa County, Arizona         AZ          County\n",
      "2  6037 Los Angeles County, California         CA          County\n",
      "3 17031          Cook County, Illinois         IL          County\n",
      "4 26163         Wayne County, Michigan         MI          County\n",
      "5 36047         Kings County, New York         NY          County\n",
      "6 36081        Queens County, New York         NY          County\n",
      "7 36103       Suffolk County, New York         NY          County\n",
      "8 48113           Dallas County, Texas         TX          County\n",
      "9 48201           Harris County, Texas         TX          County\n",
      "  Heating_Delivered_Fuel Heating_Electric Division_Electric_Pct_Heat_Pump\n",
      "1                  15027          1124076                       0.2390858\n",
      "2                  52404           888926                       0.1047170\n",
      "3                  27936           285186                       0.1099516\n",
      "4                   8054            66687                       0.1099516\n",
      "5                 104042            88351                       0.1346781\n",
      "6                 114208            55369                       0.1346781\n",
      "7                 251888            37854                       0.1346781\n",
      "8                   7802           585132                       0.1291381\n",
      "9                  17418           910212                       0.1291381\n",
      "  Energy_Burden_Pct_Income hvac_energy_intensity upgrade_annual_spend_delta\n",
      "1               0.02934438              4.138337                  747608748\n",
      "2               0.01878855              2.334803                 1254735426\n",
      "3               0.02779179             15.720179                  994004234\n",
      "4               0.06065439             20.100386                  128461555\n",
      "5               0.03077845             16.423135                  432612970\n",
      "6               0.03472795             15.904420                  376632224\n",
      "7               0.03357795             14.949081                  374756999\n",
      "8               0.03013036              8.121495                  508107916\n",
      "9               0.02809476              5.320853                  881650495\n",
      "  kg_co2e_emissions_saved Total_New_Units\n",
      "1              2608324846       62035.000\n",
      "2              5159665520       28317.000\n",
      "3              6567905059        8388.000\n",
      "4               610140267        2865.000\n",
      "5              3217721003        7866.667\n",
      "6              2684326036        5090.667\n",
      "7              1737479331        1764.667\n",
      "8              1607965195       21702.000\n",
      "9              2791896738       56617.000\n",
      "  Residential_Solar_Generation_Potential Pct_Solar_Install Spatial_Level.y\n",
      "1                              8077095.8       0.057588944          County\n",
      "2                             14625649.2       0.042355183          County\n",
      "3                              5004416.6       0.003035431          County\n",
      "4                              2381244.8       0.001897228          County\n",
      "5                               204854.1       0.008076040          County\n",
      "6                               501649.4       0.014349797          County\n",
      "7                              2933135.8       0.032446894          County\n",
      "8                              4764385.4       0.005638128          County\n",
      "9                              8669908.5       0.005668587          County\n",
      "  Total_Population Total_Households total_HVAC_energy solar_potential\n",
      "1          4412779          1596784           6608030       7611944.4\n",
      "2         10040682          3332504           7780739      14006177.1\n",
      "3          5169517          1991474          31306329       4989226.0\n",
      "4          1753059           694858          13966914       2376727.0\n",
      "5          2576771           972314          15968444        203199.7\n",
      "6          2270976           783362          12458918        494450.9\n",
      "7          1481364           495667           7409766       2837964.6\n",
      "8          2622634           945996           7682902       4737523.2\n",
      "9          4680609          1635749           8703580       8620762.4\n",
      "  total_energy_savings composite_index\n",
      "1             46856.64       1.2350181\n",
      "2             62612.93       1.9583789\n",
      "3             55346.62       1.6870577\n",
      "4             42146.19       0.9515833\n",
      "5             29926.32       0.8691527\n",
      "6             27204.56       0.8030567\n",
      "7             16643.48       0.9856754\n",
      "8             28503.20       0.8339255\n",
      "9             45955.98       1.3453594\n"
     ]
    }
   ],
   "source": [
    "# I created a new data frame with only those nine counties\n",
    "top_index_counties <- all_county_data %>%\n",
    "  filter(composite_index > 0.8)\n",
    "\n",
    "print(top_index_counties)\n",
    "\n",
    "# I then wrote the data frame back to a csv"
   ]
  },
  {
   "cell_type": "markdown",
   "id": "b489d971",
   "metadata": {
    "papermill": {
     "duration": 0.004508,
     "end_time": "2023-01-22T05:08:22.307028",
     "exception": false,
     "start_time": "2023-01-22T05:08:22.302520",
     "status": "completed"
    },
    "tags": []
   },
   "source": []
  },
  {
   "cell_type": "markdown",
   "id": "8aa2de08",
   "metadata": {
    "papermill": {
     "duration": 0.004395,
     "end_time": "2023-01-22T05:08:22.315845",
     "exception": false,
     "start_time": "2023-01-22T05:08:22.311450",
     "status": "completed"
    },
    "tags": []
   },
   "source": [
    "### Visualization\n",
    "\n",
    "I then opted to visualize the data using Tableau.\n",
    "\n",
    "The link to my visualization is [here](https://public.tableau.com/views/Testindex/Dashboard1?:language=en-US&:display_count=n&:origin=viz_share_link). It's also embedded below. \n",
    "\n",
    "<div class='tableauPlaceholder' id='viz1674363811056' style='position: relative'><noscript><a href='#'><img alt='Top Index Counties ' src='https:&#47;&#47;public.tableau.com&#47;static&#47;images&#47;Te&#47;Testindex&#47;Dashboard1&#47;1_rss.png' style='border: none' /></a></noscript><object class='tableauViz'  style='display:none;'><param name='host_url' value='https%3A%2F%2Fpublic.tableau.com%2F' /> <param name='embed_code_version' value='3' /> <param name='site_root' value='' /><param name='name' value='Testindex&#47;Dashboard1' /><param name='tabs' value='no' /><param name='toolbar' value='yes' /><param name='static_image' value='https:&#47;&#47;public.tableau.com&#47;static&#47;images&#47;Te&#47;Testindex&#47;Dashboard1&#47;1.png' /> <param name='animate_transition' value='yes' /><param name='display_static_image' value='yes' /><param name='display_spinner' value='yes' /><param name='display_overlay' value='yes' /><param name='display_count' value='yes' /><param name='language' value='en-US' /></object></div>                <script type='text/javascript'>                    var divElement = document.getElementById('viz1674363811056');                    var vizElement = divElement.getElementsByTagName('object')[0];                    if ( divElement.offsetWidth > 800 ) { vizElement.style.width='1000px';vizElement.style.height='827px';} else if ( divElement.offsetWidth > 500 ) { vizElement.style.width='1000px';vizElement.style.height='827px';} else { vizElement.style.width='100%';vizElement.style.height='727px';}                     var scriptElement = document.createElement('script');                    scriptElement.src = 'https://public.tableau.com/javascripts/api/viz_v1.js';                    vizElement.parentNode.insertBefore(scriptElement, vizElement);                </script>"
   ]
  },
  {
   "cell_type": "markdown",
   "id": "66f56428",
   "metadata": {
    "papermill": {
     "duration": 0.00432,
     "end_time": "2023-01-22T05:08:22.324703",
     "exception": false,
     "start_time": "2023-01-22T05:08:22.320383",
     "status": "completed"
    },
    "tags": []
   },
   "source": [
    "Thank you for reading!"
   ]
  }
 ],
 "metadata": {
  "kernelspec": {
   "display_name": "R",
   "language": "R",
   "name": "ir"
  },
  "language_info": {
   "codemirror_mode": "r",
   "file_extension": ".r",
   "mimetype": "text/x-r-source",
   "name": "R",
   "pygments_lexer": "r",
   "version": "4.0.5"
  },
  "papermill": {
   "default_parameters": {},
   "duration": 23.879461,
   "end_time": "2023-01-22T05:08:22.449159",
   "environment_variables": {},
   "exception": null,
   "input_path": "__notebook__.ipynb",
   "output_path": "__notebook__.ipynb",
   "parameters": {},
   "start_time": "2023-01-22T05:07:58.569698",
   "version": "2.4.0"
  }
 },
 "nbformat": 4,
 "nbformat_minor": 5
}
